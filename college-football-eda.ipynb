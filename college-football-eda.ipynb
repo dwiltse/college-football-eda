{
 "cells": [
  {
   "cell_type": "code",
   "execution_count": 1,
   "metadata": {},
   "outputs": [],
   "source": [
    "#loading required modules\n",
    "import numpy as np\n",
    "import seaborn as sns\n",
    "import matplotlib.pyplot as plt\n",
    "%matplotlib inline\n",
    "import pandas as pd\n",
    "import thinkstats2\n",
    "import thinkplot\n",
    "import statistics"
   ]
  },
  {
   "cell_type": "code",
   "execution_count": 2,
   "metadata": {},
   "outputs": [
    {
     "data": {
      "text/html": [
       "<div>\n",
       "<style scoped>\n",
       "    .dataframe tbody tr th:only-of-type {\n",
       "        vertical-align: middle;\n",
       "    }\n",
       "\n",
       "    .dataframe tbody tr th {\n",
       "        vertical-align: top;\n",
       "    }\n",
       "\n",
       "    .dataframe thead th {\n",
       "        text-align: right;\n",
       "    }\n",
       "</style>\n",
       "<table border=\"1\" class=\"dataframe\">\n",
       "  <thead>\n",
       "    <tr style=\"text-align: right;\">\n",
       "      <th></th>\n",
       "      <th>team</th>\n",
       "      <th>conference</th>\n",
       "      <th>wins</th>\n",
       "      <th>pf</th>\n",
       "      <th>pa</th>\n",
       "      <th>five_year_avg_recruit_rank</th>\n",
       "      <th>offensesuccessRate</th>\n",
       "      <th>defensesuccessRate</th>\n",
       "      <th>defensehavoctotal</th>\n",
       "    </tr>\n",
       "  </thead>\n",
       "  <tbody>\n",
       "    <tr>\n",
       "      <th>0</th>\n",
       "      <td>Alabama</td>\n",
       "      <td>SEC</td>\n",
       "      <td>11</td>\n",
       "      <td>614</td>\n",
       "      <td>242</td>\n",
       "      <td>2.8</td>\n",
       "      <td>0.516285</td>\n",
       "      <td>0.386127</td>\n",
       "      <td>0.239306</td>\n",
       "    </tr>\n",
       "    <tr>\n",
       "      <th>1</th>\n",
       "      <td>Georgia</td>\n",
       "      <td>SEC</td>\n",
       "      <td>12</td>\n",
       "      <td>431</td>\n",
       "      <td>176</td>\n",
       "      <td>3.8</td>\n",
       "      <td>0.460722</td>\n",
       "      <td>0.356659</td>\n",
       "      <td>0.195260</td>\n",
       "    </tr>\n",
       "    <tr>\n",
       "      <th>2</th>\n",
       "      <td>Ohio State</td>\n",
       "      <td>Big Ten</td>\n",
       "      <td>13</td>\n",
       "      <td>656</td>\n",
       "      <td>192</td>\n",
       "      <td>6.2</td>\n",
       "      <td>0.494220</td>\n",
       "      <td>0.322093</td>\n",
       "      <td>0.281395</td>\n",
       "    </tr>\n",
       "    <tr>\n",
       "      <th>3</th>\n",
       "      <td>USC</td>\n",
       "      <td>Pac 12</td>\n",
       "      <td>8</td>\n",
       "      <td>422</td>\n",
       "      <td>382</td>\n",
       "      <td>8.8</td>\n",
       "      <td>0.489933</td>\n",
       "      <td>0.457516</td>\n",
       "      <td>0.198257</td>\n",
       "    </tr>\n",
       "    <tr>\n",
       "      <th>4</th>\n",
       "      <td>LSU</td>\n",
       "      <td>SEC</td>\n",
       "      <td>15</td>\n",
       "      <td>726</td>\n",
       "      <td>328</td>\n",
       "      <td>9.8</td>\n",
       "      <td>0.549020</td>\n",
       "      <td>0.357143</td>\n",
       "      <td>0.237425</td>\n",
       "    </tr>\n",
       "  </tbody>\n",
       "</table>\n",
       "</div>"
      ],
      "text/plain": [
       "         team conference  wins   pf   pa  five_year_avg_recruit_rank  \\\n",
       "0     Alabama        SEC    11  614  242                         2.8   \n",
       "1     Georgia        SEC    12  431  176                         3.8   \n",
       "2  Ohio State    Big Ten    13  656  192                         6.2   \n",
       "3         USC     Pac 12     8  422  382                         8.8   \n",
       "4         LSU        SEC    15  726  328                         9.8   \n",
       "\n",
       "   offensesuccessRate  defensesuccessRate  defensehavoctotal  \n",
       "0            0.516285            0.386127           0.239306  \n",
       "1            0.460722            0.356659           0.195260  \n",
       "2            0.494220            0.322093           0.281395  \n",
       "3            0.489933            0.457516           0.198257  \n",
       "4            0.549020            0.357143           0.237425  "
      ]
     },
     "execution_count": 2,
     "metadata": {},
     "output_type": "execute_result"
    }
   ],
   "source": [
    "#Get CSV dataset\n",
    "df1 = pd.read_csv(\"C:/Users/Dan/Desktop/DSC530/Final Project/Data/2019cfbstatsfinal.csv\")\n",
    "df1.head()"
   ]
  },
  {
   "cell_type": "code",
   "execution_count": 3,
   "metadata": {},
   "outputs": [
    {
     "data": {
      "text/html": [
       "<div>\n",
       "<style scoped>\n",
       "    .dataframe tbody tr th:only-of-type {\n",
       "        vertical-align: middle;\n",
       "    }\n",
       "\n",
       "    .dataframe tbody tr th {\n",
       "        vertical-align: top;\n",
       "    }\n",
       "\n",
       "    .dataframe thead th {\n",
       "        text-align: right;\n",
       "    }\n",
       "</style>\n",
       "<table border=\"1\" class=\"dataframe\">\n",
       "  <thead>\n",
       "    <tr style=\"text-align: right;\">\n",
       "      <th></th>\n",
       "      <th>wins</th>\n",
       "      <th>pf</th>\n",
       "      <th>pa</th>\n",
       "      <th>five_year_avg_recruit_rank</th>\n",
       "      <th>offensesuccessRate</th>\n",
       "      <th>defensesuccessRate</th>\n",
       "      <th>defensehavoctotal</th>\n",
       "    </tr>\n",
       "  </thead>\n",
       "  <tbody>\n",
       "    <tr>\n",
       "      <th>count</th>\n",
       "      <td>64.000000</td>\n",
       "      <td>64.000000</td>\n",
       "      <td>64.000000</td>\n",
       "      <td>64.000000</td>\n",
       "      <td>64.000000</td>\n",
       "      <td>64.000000</td>\n",
       "      <td>64.000000</td>\n",
       "    </tr>\n",
       "    <tr>\n",
       "      <th>mean</th>\n",
       "      <td>7.187500</td>\n",
       "      <td>378.281250</td>\n",
       "      <td>321.250000</td>\n",
       "      <td>41.003125</td>\n",
       "      <td>0.426212</td>\n",
       "      <td>0.404381</td>\n",
       "      <td>0.214900</td>\n",
       "    </tr>\n",
       "    <tr>\n",
       "      <th>std</th>\n",
       "      <td>3.085424</td>\n",
       "      <td>111.801194</td>\n",
       "      <td>71.501582</td>\n",
       "      <td>22.335181</td>\n",
       "      <td>0.046824</td>\n",
       "      <td>0.040480</td>\n",
       "      <td>0.028833</td>\n",
       "    </tr>\n",
       "    <tr>\n",
       "      <th>min</th>\n",
       "      <td>2.000000</td>\n",
       "      <td>159.000000</td>\n",
       "      <td>176.000000</td>\n",
       "      <td>2.800000</td>\n",
       "      <td>0.327422</td>\n",
       "      <td>0.322093</td>\n",
       "      <td>0.163415</td>\n",
       "    </tr>\n",
       "    <tr>\n",
       "      <th>25%</th>\n",
       "      <td>5.000000</td>\n",
       "      <td>303.750000</td>\n",
       "      <td>275.000000</td>\n",
       "      <td>20.700000</td>\n",
       "      <td>0.398367</td>\n",
       "      <td>0.370277</td>\n",
       "      <td>0.194158</td>\n",
       "    </tr>\n",
       "    <tr>\n",
       "      <th>50%</th>\n",
       "      <td>7.500000</td>\n",
       "      <td>365.000000</td>\n",
       "      <td>324.500000</td>\n",
       "      <td>41.900000</td>\n",
       "      <td>0.427156</td>\n",
       "      <td>0.404907</td>\n",
       "      <td>0.211306</td>\n",
       "    </tr>\n",
       "    <tr>\n",
       "      <th>75%</th>\n",
       "      <td>9.000000</td>\n",
       "      <td>431.250000</td>\n",
       "      <td>378.500000</td>\n",
       "      <td>61.250000</td>\n",
       "      <td>0.450596</td>\n",
       "      <td>0.433590</td>\n",
       "      <td>0.230357</td>\n",
       "    </tr>\n",
       "    <tr>\n",
       "      <th>max</th>\n",
       "      <td>15.000000</td>\n",
       "      <td>726.000000</td>\n",
       "      <td>442.000000</td>\n",
       "      <td>82.000000</td>\n",
       "      <td>0.549020</td>\n",
       "      <td>0.488082</td>\n",
       "      <td>0.288483</td>\n",
       "    </tr>\n",
       "  </tbody>\n",
       "</table>\n",
       "</div>"
      ],
      "text/plain": [
       "            wins          pf          pa  five_year_avg_recruit_rank  \\\n",
       "count  64.000000   64.000000   64.000000                   64.000000   \n",
       "mean    7.187500  378.281250  321.250000                   41.003125   \n",
       "std     3.085424  111.801194   71.501582                   22.335181   \n",
       "min     2.000000  159.000000  176.000000                    2.800000   \n",
       "25%     5.000000  303.750000  275.000000                   20.700000   \n",
       "50%     7.500000  365.000000  324.500000                   41.900000   \n",
       "75%     9.000000  431.250000  378.500000                   61.250000   \n",
       "max    15.000000  726.000000  442.000000                   82.000000   \n",
       "\n",
       "       offensesuccessRate  defensesuccessRate  defensehavoctotal  \n",
       "count           64.000000           64.000000          64.000000  \n",
       "mean             0.426212            0.404381           0.214900  \n",
       "std              0.046824            0.040480           0.028833  \n",
       "min              0.327422            0.322093           0.163415  \n",
       "25%              0.398367            0.370277           0.194158  \n",
       "50%              0.427156            0.404907           0.211306  \n",
       "75%              0.450596            0.433590           0.230357  \n",
       "max              0.549020            0.488082           0.288483  "
      ]
     },
     "execution_count": 3,
     "metadata": {},
     "output_type": "execute_result"
    }
   ],
   "source": [
    "#Provide basic statistics for attributes\n",
    "df1.describe()"
   ]
  },
  {
   "cell_type": "code",
   "execution_count": 4,
   "metadata": {},
   "outputs": [
    {
     "data": {
      "image/png": "[encoded data removed]",
      "text/plain": [
       "<Figure size 432x288 with 1 Axes>"
      ]
     },
     "metadata": {
      "needs_background": "light"
     },
     "output_type": "display_data"
    }
   ],
   "source": [
    "#Total Wins\n",
    "#Shows most common win total was 8 wins\n",
    "hist = thinkstats2.Hist(df1.wins, label='total_wins')\n",
    "thinkplot.Hist(hist)\n",
    "thinkplot.Config(xlabel='total_wins', ylabel='Count')"
   ]
  },
  {
   "cell_type": "code",
   "execution_count": 5,
   "metadata": {},
   "outputs": [
    {
     "data": {
      "text/plain": [
       "array([[<matplotlib.axes._subplots.AxesSubplot object at 0x0000029393AB1F08>,\n",
       "        <matplotlib.axes._subplots.AxesSubplot object at 0x0000029393B36A88>,\n",
       "        <matplotlib.axes._subplots.AxesSubplot object at 0x0000029393B73308>],\n",
       "       [<matplotlib.axes._subplots.AxesSubplot object at 0x0000029393BA8E08>,\n",
       "        <matplotlib.axes._subplots.AxesSubplot object at 0x0000029393BE1F48>,\n",
       "        <matplotlib.axes._subplots.AxesSubplot object at 0x0000029393C18FC8>],\n",
       "       [<matplotlib.axes._subplots.AxesSubplot object at 0x0000029393C5BF88>,\n",
       "        <matplotlib.axes._subplots.AxesSubplot object at 0x0000029393C90248>,\n",
       "        <matplotlib.axes._subplots.AxesSubplot object at 0x0000029393C9C248>]],\n",
       "      dtype=object)"
      ]
     },
     "execution_count": 5,
     "metadata": {},
     "output_type": "execute_result"
    },
    {
     "data": {
      "image/png": "[encoded data removed]",
      "text/plain": [
       "<Figure size 1440x1440 with 9 Axes>"
      ]
     },
     "metadata": {
      "needs_background": "light"
     },
     "output_type": "display_data"
    }
   ],
   "source": [
    "#histograms for all metrics\n",
    "df1.hist(bins = 10, figsize = (20, 20))"
   ]
  },
  {
   "cell_type": "code",
   "execution_count": 10,
   "metadata": {},
   "outputs": [
    {
     "data": {
      "text/html": [
       "<div>\n",
       "<style scoped>\n",
       "    .dataframe tbody tr th:only-of-type {\n",
       "        vertical-align: middle;\n",
       "    }\n",
       "\n",
       "    .dataframe tbody tr th {\n",
       "        vertical-align: top;\n",
       "    }\n",
       "\n",
       "    .dataframe thead th {\n",
       "        text-align: right;\n",
       "    }\n",
       "</style>\n",
       "<table border=\"1\" class=\"dataframe\">\n",
       "  <thead>\n",
       "    <tr style=\"text-align: right;\">\n",
       "      <th></th>\n",
       "      <th>team</th>\n",
       "      <th>conference</th>\n",
       "      <th>wins</th>\n",
       "      <th>pf</th>\n",
       "      <th>pa</th>\n",
       "      <th>five_year_avg_recruit_rank</th>\n",
       "      <th>offensesuccessRate</th>\n",
       "      <th>defensesuccessRate</th>\n",
       "      <th>defensehavoctotal</th>\n",
       "    </tr>\n",
       "  </thead>\n",
       "  <tbody>\n",
       "    <tr>\n",
       "      <th>0</th>\n",
       "      <td>Alabama</td>\n",
       "      <td>SEC</td>\n",
       "      <td>11</td>\n",
       "      <td>614</td>\n",
       "      <td>242</td>\n",
       "      <td>2.8</td>\n",
       "      <td>0.516285</td>\n",
       "      <td>0.386127</td>\n",
       "      <td>0.239306</td>\n",
       "    </tr>\n",
       "    <tr>\n",
       "      <th>1</th>\n",
       "      <td>Georgia</td>\n",
       "      <td>SEC</td>\n",
       "      <td>12</td>\n",
       "      <td>431</td>\n",
       "      <td>176</td>\n",
       "      <td>3.8</td>\n",
       "      <td>0.460722</td>\n",
       "      <td>0.356659</td>\n",
       "      <td>0.195260</td>\n",
       "    </tr>\n",
       "    <tr>\n",
       "      <th>4</th>\n",
       "      <td>LSU</td>\n",
       "      <td>SEC</td>\n",
       "      <td>15</td>\n",
       "      <td>726</td>\n",
       "      <td>328</td>\n",
       "      <td>9.8</td>\n",
       "      <td>0.549020</td>\n",
       "      <td>0.357143</td>\n",
       "      <td>0.237425</td>\n",
       "    </tr>\n",
       "    <tr>\n",
       "      <th>8</th>\n",
       "      <td>Auburn</td>\n",
       "      <td>SEC</td>\n",
       "      <td>9</td>\n",
       "      <td>432</td>\n",
       "      <td>254</td>\n",
       "      <td>12.2</td>\n",
       "      <td>0.440733</td>\n",
       "      <td>0.356413</td>\n",
       "      <td>0.240636</td>\n",
       "    </tr>\n",
       "    <tr>\n",
       "      <th>11</th>\n",
       "      <td>Texas A&amp;M</td>\n",
       "      <td>SEC</td>\n",
       "      <td>8</td>\n",
       "      <td>384</td>\n",
       "      <td>293</td>\n",
       "      <td>16.0</td>\n",
       "      <td>0.464821</td>\n",
       "      <td>0.382212</td>\n",
       "      <td>0.224760</td>\n",
       "    </tr>\n",
       "  </tbody>\n",
       "</table>\n",
       "</div>"
      ],
      "text/plain": [
       "         team conference  wins   pf   pa  five_year_avg_recruit_rank  \\\n",
       "0     Alabama        SEC    11  614  242                         2.8   \n",
       "1     Georgia        SEC    12  431  176                         3.8   \n",
       "4         LSU        SEC    15  726  328                         9.8   \n",
       "8      Auburn        SEC     9  432  254                        12.2   \n",
       "11  Texas A&M        SEC     8  384  293                        16.0   \n",
       "\n",
       "    offensesuccessRate  defensesuccessRate  defensehavoctotal  \n",
       "0             0.516285            0.386127           0.239306  \n",
       "1             0.460722            0.356659           0.195260  \n",
       "4             0.549020            0.357143           0.237425  \n",
       "8             0.440733            0.356413           0.240636  \n",
       "11            0.464821            0.382212           0.224760  "
      ]
     },
     "execution_count": 10,
     "metadata": {},
     "output_type": "execute_result"
    }
   ],
   "source": [
    "#create dataframe for pmf of only SEC schoools\n",
    "dfSEC = df1[(df1[\"conference\"] == 'SEC') ]\n",
    "dfSEC.head()"
   ]
  },
  {
   "cell_type": "code",
   "execution_count": 8,
   "metadata": {},
   "outputs": [
    {
     "data": {
      "text/html": [
       "<div>\n",
       "<style scoped>\n",
       "    .dataframe tbody tr th:only-of-type {\n",
       "        vertical-align: middle;\n",
       "    }\n",
       "\n",
       "    .dataframe tbody tr th {\n",
       "        vertical-align: top;\n",
       "    }\n",
       "\n",
       "    .dataframe thead th {\n",
       "        text-align: right;\n",
       "    }\n",
       "</style>\n",
       "<table border=\"1\" class=\"dataframe\">\n",
       "  <thead>\n",
       "    <tr style=\"text-align: right;\">\n",
       "      <th></th>\n",
       "      <th>team</th>\n",
       "      <th>conference</th>\n",
       "      <th>wins</th>\n",
       "      <th>pf</th>\n",
       "      <th>pa</th>\n",
       "      <th>five_year_avg_recruit_rank</th>\n",
       "      <th>offensesuccessRate</th>\n",
       "      <th>defensesuccessRate</th>\n",
       "      <th>defensehavoctotal</th>\n",
       "    </tr>\n",
       "  </thead>\n",
       "  <tbody>\n",
       "    <tr>\n",
       "      <th>2</th>\n",
       "      <td>Ohio State</td>\n",
       "      <td>Big Ten</td>\n",
       "      <td>13</td>\n",
       "      <td>656</td>\n",
       "      <td>192</td>\n",
       "      <td>6.2</td>\n",
       "      <td>0.494220</td>\n",
       "      <td>0.322093</td>\n",
       "      <td>0.281395</td>\n",
       "    </tr>\n",
       "    <tr>\n",
       "      <th>3</th>\n",
       "      <td>USC</td>\n",
       "      <td>Pac 12</td>\n",
       "      <td>8</td>\n",
       "      <td>422</td>\n",
       "      <td>382</td>\n",
       "      <td>8.8</td>\n",
       "      <td>0.489933</td>\n",
       "      <td>0.457516</td>\n",
       "      <td>0.198257</td>\n",
       "    </tr>\n",
       "    <tr>\n",
       "      <th>5</th>\n",
       "      <td>Texas</td>\n",
       "      <td>Big 12</td>\n",
       "      <td>8</td>\n",
       "      <td>458</td>\n",
       "      <td>357</td>\n",
       "      <td>10.2</td>\n",
       "      <td>0.467380</td>\n",
       "      <td>0.435449</td>\n",
       "      <td>0.187090</td>\n",
       "    </tr>\n",
       "    <tr>\n",
       "      <th>6</th>\n",
       "      <td>Florida State</td>\n",
       "      <td>ACC</td>\n",
       "      <td>6</td>\n",
       "      <td>363</td>\n",
       "      <td>362</td>\n",
       "      <td>10.6</td>\n",
       "      <td>0.393057</td>\n",
       "      <td>0.416585</td>\n",
       "      <td>0.184390</td>\n",
       "    </tr>\n",
       "    <tr>\n",
       "      <th>7</th>\n",
       "      <td>Clemson</td>\n",
       "      <td>ACC</td>\n",
       "      <td>14</td>\n",
       "      <td>659</td>\n",
       "      <td>203</td>\n",
       "      <td>12.0</td>\n",
       "      <td>0.496676</td>\n",
       "      <td>0.339267</td>\n",
       "      <td>0.258639</td>\n",
       "    </tr>\n",
       "  </tbody>\n",
       "</table>\n",
       "</div>"
      ],
      "text/plain": [
       "            team conference  wins   pf   pa  five_year_avg_recruit_rank  \\\n",
       "2     Ohio State    Big Ten    13  656  192                         6.2   \n",
       "3            USC     Pac 12     8  422  382                         8.8   \n",
       "5          Texas     Big 12     8  458  357                        10.2   \n",
       "6  Florida State        ACC     6  363  362                        10.6   \n",
       "7        Clemson        ACC    14  659  203                        12.0   \n",
       "\n",
       "   offensesuccessRate  defensesuccessRate  defensehavoctotal  \n",
       "2            0.494220            0.322093           0.281395  \n",
       "3            0.489933            0.457516           0.198257  \n",
       "5            0.467380            0.435449           0.187090  \n",
       "6            0.393057            0.416585           0.184390  \n",
       "7            0.496676            0.339267           0.258639  "
      ]
     },
     "execution_count": 8,
     "metadata": {},
     "output_type": "execute_result"
    }
   ],
   "source": [
    "#create data frame for pmf of all schools not in SEC\n",
    "dfnotSEC = df1[(df1[\"conference\"] != 'SEC') ]\n",
    "dfnotSEC.head()"
   ]
  },
  {
   "cell_type": "code",
   "execution_count": 12,
   "metadata": {},
   "outputs": [],
   "source": [
    "#create SEC pmf\n",
    "pmfSEC = thinkstats2.Pmf(dfSEC.wins, label='SECwins')\n",
    "\n",
    "#create non SEC pmf\n",
    "pmfnotSEC = thinkstats2.Pmf(dfnotSEC.wins, label='otherwins')\n",
    "\n"
   ]
  },
  {
   "cell_type": "code",
   "execution_count": 14,
   "metadata": {},
   "outputs": [
    {
     "data": {
      "image/png": "[encoded data removed]",
      "text/plain": [
       "<Figure size 864x432 with 2 Axes>"
      ]
     },
     "metadata": {
      "needs_background": "light"
     },
     "output_type": "display_data"
    }
   ],
   "source": [
    "#pmf comparison of wins by conference wins\n",
    "width=0.45\n",
    "axis = [0, 16, 0, 0.6]\n",
    "thinkplot.PrePlot(2, cols=2)\n",
    "thinkplot.Hist(pmfSEC, align='right', width=width)\n",
    "thinkplot.Hist(pmfnotSEC, align='left', width=width)\n",
    "thinkplot.Config(xlabel='wins', ylabel='PMF', axis=axis)\n",
    "\n",
    "thinkplot.PrePlot(2)\n",
    "thinkplot.SubPlot(2)\n",
    "thinkplot.Pmfs([pmfSEC, pmfnotSEC])\n",
    "thinkplot.Config(xlabel='wins', axis=axis)"
   ]
  },
  {
   "cell_type": "code",
   "execution_count": 15,
   "metadata": {},
   "outputs": [
    {
     "data": {
      "image/png": "[encoded data removed]",
      "text/plain": [
       "<Figure size 432x288 with 1 Axes>"
      ]
     },
     "metadata": {
      "needs_background": "light"
     },
     "output_type": "display_data"
    }
   ],
   "source": [
    "#CDF of points\n",
    "pacdf = thinkstats2.Cdf(df1.pa, label='pa')\n",
    "pfcdf = thinkstats2.Cdf(df1.pf, label='pf')\n",
    "\n",
    "thinkplot.PrePlot(2)\n",
    "thinkplot.Cdfs([pacdf, pfcdf])\n",
    "thinkplot.Config(xlabel='points', ylabel='CDF')"
   ]
  },
  {
   "cell_type": "code",
   "execution_count": 16,
   "metadata": {},
   "outputs": [
    {
     "name": "stderr",
     "output_type": "stream",
     "text": [
      "C:\\Users\\Dan\\Desktop\\DSC530\\ThinkStatsGithub\\code\\thinkstats2.py:2479: RuntimeWarning: Mean of empty slice.\n",
      "  mean = xs.mean()\n",
      "C:\\Users\\Dan\\anaconda3\\lib\\site-packages\\numpy\\core\\_methods.py:161: RuntimeWarning: invalid value encountered in double_scalars\n",
      "  ret = ret.dtype.type(ret / rcount)\n",
      "C:\\Users\\Dan\\Desktop\\DSC530\\ThinkStatsGithub\\code\\thinkstats2.py:2451: RuntimeWarning: invalid value encountered in double_scalars\n",
      "  return np.dot(ds, ds) / (len(xs) - ddof)\n"
     ]
    },
    {
     "data": {
      "image/png": "[encoded data removed]",
      "text/plain": [
       "<Figure size 432x288 with 1 Axes>"
      ]
     },
     "metadata": {
      "needs_background": "light"
     },
     "output_type": "display_data"
    }
   ],
   "source": [
    "#Analytical Distribution\n",
    "#Normal Probability Plot\n",
    "mean, var = thinkstats2.TrimmedMeanVar(df1.offensesuccessRate, p=0.01)\n",
    "std = np.sqrt(var)\n",
    "\n",
    "xs = [-4, 4]\n",
    "fxs, fys = thinkstats2.FitLine(xs, mean, std)\n",
    "thinkplot.Plot(fxs, fys, linewidth=4, color='0.8')\n",
    "\n",
    "thinkplot.PrePlot(2) \n",
    "xs, ys = thinkstats2.NormalProbability(df1.defensesuccessRate)\n",
    "thinkplot.Plot(xs, ys, label='def success rate')\n",
    "\n",
    "xs, ys = thinkstats2.NormalProbability(df1.defensesuccessRate)\n",
    "thinkplot.Plot(xs, ys, label='off success rate')\n",
    "thinkplot.Config(title='Normal probability plot',\n",
    "                 xlabel='Standard deviations from mean',\n",
    "                 ylabel='success rate')"
   ]
  },
  {
   "cell_type": "code",
   "execution_count": 17,
   "metadata": {},
   "outputs": [
    {
     "data": {
      "text/plain": [
       "<matplotlib.axes._subplots.AxesSubplot at 0x2939419d848>"
      ]
     },
     "execution_count": 17,
     "metadata": {},
     "output_type": "execute_result"
    },
    {
     "data": {
      "image/png": "[encoded data removed]",
      "text/plain": [
       "<Figure size 432x288 with 1 Axes>"
      ]
     },
     "metadata": {
      "needs_background": "light"
     },
     "output_type": "display_data"
    }
   ],
   "source": [
    "#Correlations\n",
    "#Wins by Recruiting Ranking\n",
    "# library & dataset\n",
    "import seaborn as sns\n",
    " \n",
    "# use the function regplot to make a scatterplot\n",
    "sns.regplot(x=df1.wins, y=df1.five_year_avg_recruit_rank)\n",
    "#sns.plt.show()\n",
    " \n",
    "# Without regression fit:\n",
    "sns.regplot(x=df1.wins, y=df1.five_year_avg_recruit_rank, fit_reg=False)\n",
    "#sns.plt.show()\n"
   ]
  },
  {
   "cell_type": "code",
   "execution_count": 18,
   "metadata": {},
   "outputs": [
    {
     "data": {
      "text/plain": [
       "<matplotlib.axes._subplots.AxesSubplot at 0x2939418f2c8>"
      ]
     },
     "execution_count": 18,
     "metadata": {},
     "output_type": "execute_result"
    },
    {
     "data": {
      "image/png": "[encoded data removed]",
      "text/plain": [
       "<Figure size 432x288 with 1 Axes>"
      ]
     },
     "metadata": {
      "needs_background": "light"
     },
     "output_type": "display_data"
    }
   ],
   "source": [
    "#Correlations\n",
    "#Offensive vs Defensive Success Rate\n",
    "# library & dataset\n",
    "import seaborn as sns\n",
    " \n",
    "# use the function regplot to make a scatterplot\n",
    "sns.regplot(x=df1.offensesuccessRate, y=df1.defensesuccessRate)\n",
    "#sns.plt.show()\n",
    " \n",
    "# Without regression fit:\n",
    "sns.regplot(x=df1.offensesuccessRate, y=df1.defensesuccessRate, fit_reg=False)\n",
    "#sns.plt.show()"
   ]
  },
  {
   "cell_type": "code",
   "execution_count": 20,
   "metadata": {},
   "outputs": [],
   "source": [
    "#Ch 9 Test correlation\n",
    "class CorrelationPermute(thinkstats2.HypothesisTest):\n",
    "\n",
    "    def TestStatistic(self, data):\n",
    "        xs, ys = data\n",
    "        test_stat = abs(thinkstats2.Corr(xs, ys))\n",
    "        return test_stat\n",
    "\n",
    "    def RunModel(self):\n",
    "        xs, ys = self.data\n",
    "        xs = np.random.permutation(xs)\n",
    "        return xs, ys"
   ]
  },
  {
   "cell_type": "code",
   "execution_count": 23,
   "metadata": {},
   "outputs": [
    {
     "data": {
      "text/plain": [
       "array([[ 1.       , -0.5040221],\n",
       "       [-0.5040221,  1.       ]])"
      ]
     },
     "execution_count": 23,
     "metadata": {},
     "output_type": "execute_result"
    }
   ],
   "source": [
    "#Correlation between wins and recruiting ranking\n",
    "r = np.corrcoef(df1.wins, df1.five_year_avg_recruit_rank)\n",
    "r"
   ]
  },
  {
   "cell_type": "code",
   "execution_count": 24,
   "metadata": {},
   "outputs": [
    {
     "data": {
      "text/plain": [
       "0.0"
      ]
     },
     "execution_count": 24,
     "metadata": {},
     "output_type": "execute_result"
    }
   ],
   "source": [
    "#Hypothesis Test\n",
    "cleaned = df1.dropna(subset=['offensesuccessRate', 'defensesuccessRate'])\n",
    "data = cleaned.wins.values, cleaned.five_year_avg_recruit_rank.values\n",
    "ht = CorrelationPermute(data)\n",
    "pvalue = ht.PValue()\n",
    "pvalue"
   ]
  },
  {
   "cell_type": "code",
   "execution_count": 26,
   "metadata": {},
   "outputs": [
    {
     "name": "stdout",
     "output_type": "stream",
     "text": [
      "Intercept: \n",
      " 14.445756556696821\n",
      "Coefficients: \n",
      " [-1.53654791e-02 -2.94323994e-02 -1.23210404e+01  1.79949731e+01]\n",
      "Predicted Win Total: \n",
      " [8.0887366]\n",
      "                            OLS Regression Results                            \n",
      "==============================================================================\n",
      "Dep. Variable:                   wins   R-squared:                       0.543\n",
      "Model:                            OLS   Adj. R-squared:                  0.512\n",
      "Method:                 Least Squares   F-statistic:                     17.55\n",
      "Date:                Thu, 28 May 2020   Prob (F-statistic):           1.54e-09\n",
      "Time:                        22:09:32   Log-Likelihood:                -137.33\n",
      "No. Observations:                  64   AIC:                             284.7\n",
      "Df Residuals:                      59   BIC:                             295.5\n",
      "Df Model:                           4                                         \n",
      "Covariance Type:            nonrobust                                         \n",
      "==============================================================================================\n",
      "                                 coef    std err          t      P>|t|      [0.025      0.975]\n",
      "----------------------------------------------------------------------------------------------\n",
      "const                         14.4458      6.687      2.160      0.035       1.064      27.827\n",
      "pa                            -0.0154      0.007     -2.317      0.024      -0.029      -0.002\n",
      "five_year_avg_recruit_rank    -0.0294      0.014     -2.108      0.039      -0.057      -0.001\n",
      "defensesuccessRate           -12.3210     13.641     -0.903      0.370     -39.617      14.975\n",
      "defensehavoctotal             17.9950     13.704      1.313      0.194      -9.426      45.416\n",
      "==============================================================================\n",
      "Omnibus:                        0.642   Durbin-Watson:                   1.758\n",
      "Prob(Omnibus):                  0.725   Jarque-Bera (JB):                0.255\n",
      "Skew:                           0.136   Prob(JB):                        0.880\n",
      "Kurtosis:                       3.148   Cond. No.                     2.27e+04\n",
      "==============================================================================\n",
      "\n",
      "Warnings:\n",
      "[1] Standard Errors assume that the covariance matrix of the errors is correctly specified.\n",
      "[2] The condition number is large, 2.27e+04. This might indicate that there are\n",
      "strong multicollinearity or other numerical problems.\n"
     ]
    }
   ],
   "source": [
    "#defense only metrics\n",
    "#Using Nebraska actuals as test of predictions of model\n",
    "import pandas as pd\n",
    "from sklearn import linear_model\n",
    "import statsmodels.api as sm\n",
    "\n",
    "#Get data\n",
    "df = df1\n",
    "\n",
    "  \n",
    "X = df[['pa', 'five_year_avg_recruit_rank', 'defensesuccessRate','defensehavoctotal']] # here we have 2 variables for multiple regression. \n",
    "Y = df['wins']  \n",
    " \n",
    "# with sklearn\n",
    "regr = linear_model.LinearRegression()\n",
    "regr.fit(X, Y)\n",
    "\n",
    "print('Intercept: \\n', regr.intercept_)\n",
    "print('Coefficients: \\n', regr.coef_)\n",
    "\n",
    "# prediction with sklearn\n",
    "\n",
    "New_PA = 333\n",
    "New_recruit = 28.6\n",
    "New_dsr = .415\n",
    "New_dhavoc = .262\n",
    "print ('Predicted Win Total: \\n', regr.predict([[New_PA, New_recruit, New_dsr, New_dhavoc]]))\n",
    "\n",
    "# with statsmodels\n",
    "X = sm.add_constant(X) # adding a constant\n",
    " \n",
    "model = sm.OLS(Y, X).fit()\n",
    "predictions = model.predict(X) \n",
    " \n",
    "print_model = model.summary()\n",
    "print(print_model)"
   ]
  },
  {
   "cell_type": "code",
   "execution_count": 27,
   "metadata": {},
   "outputs": [
    {
     "name": "stdout",
     "output_type": "stream",
     "text": [
      "Intercept: \n",
      " 0.02629765315869026\n",
      "Coefficients: \n",
      " [ 0.02214777 -0.01792561 -1.13060758]\n",
      "Predicted Win Total: \n",
      " [6.47816069]\n",
      "                            OLS Regression Results                            \n",
      "==============================================================================\n",
      "Dep. Variable:                   wins   R-squared:                       0.734\n",
      "Model:                            OLS   Adj. R-squared:                  0.721\n",
      "Method:                 Least Squares   F-statistic:                     55.21\n",
      "Date:                Thu, 28 May 2020   Prob (F-statistic):           2.98e-17\n",
      "Time:                        22:20:15   Log-Likelihood:                -120.03\n",
      "No. Observations:                  64   AIC:                             248.1\n",
      "Df Residuals:                      60   BIC:                             256.7\n",
      "Df Model:                           3                                         \n",
      "Covariance Type:            nonrobust                                         \n",
      "==============================================================================================\n",
      "                                 coef    std err          t      P>|t|      [0.025      0.975]\n",
      "----------------------------------------------------------------------------------------------\n",
      "const                          0.0263      2.946      0.009      0.993      -5.867       5.919\n",
      "pf                             0.0221      0.004      5.655      0.000       0.014       0.030\n",
      "five_year_avg_recruit_rank    -0.0179      0.011     -1.705      0.093      -0.039       0.003\n",
      "offensesuccessRate            -1.1306      9.267     -0.122      0.903     -19.667      17.405\n",
      "==============================================================================\n",
      "Omnibus:                        1.683   Durbin-Watson:                   1.499\n",
      "Prob(Omnibus):                  0.431   Jarque-Bera (JB):                1.632\n",
      "Skew:                           0.370   Prob(JB):                        0.442\n",
      "Kurtosis:                       2.744   Cond. No.                     1.88e+04\n",
      "==============================================================================\n",
      "\n",
      "Warnings:\n",
      "[1] Standard Errors assume that the covariance matrix of the errors is correctly specified.\n",
      "[2] The condition number is large, 1.88e+04. This might indicate that there are\n",
      "strong multicollinearity or other numerical problems.\n"
     ]
    }
   ],
   "source": [
    "#Multiple Regression\n",
    "#offense only\n",
    "\n",
    "import pandas as pd\n",
    "from sklearn import linear_model\n",
    "import statsmodels.api as sm\n",
    "\n",
    "#Get data\n",
    "df = df1\n",
    "\n",
    "  \n",
    "X = df[['pf', 'five_year_avg_recruit_rank', 'offensesuccessRate']] # here we have 2 variables for multiple regression. \n",
    "Y = df['wins']  \n",
    " \n",
    "# with sklearn\n",
    "regr = linear_model.LinearRegression()\n",
    "regr.fit(X, Y)\n",
    "\n",
    "print('Intercept: \\n', regr.intercept_)\n",
    "print('Coefficients: \\n', regr.coef_)\n",
    "\n",
    "# prediction with sklearn\n",
    "\n",
    "New_PF = 336\n",
    "New_recruit = 28.6\n",
    "New_osr = .422\n",
    "print ('Predicted Win Total: \\n', regr.predict([[New_PF, New_recruit, New_osr]]))\n",
    "\n",
    "# with statsmodels\n",
    "X = sm.add_constant(X) # adding a constant\n",
    " \n",
    "model = sm.OLS(Y, X).fit()\n",
    "predictions = model.predict(X) \n",
    " \n",
    "print_model = model.summary()\n",
    "print(print_model)"
   ]
  },
  {
   "cell_type": "code",
   "execution_count": 30,
   "metadata": {
    "scrolled": true
   },
   "outputs": [
    {
     "name": "stdout",
     "output_type": "stream",
     "text": [
      "Intercept: \n",
      " 2.7124759004389976\n",
      "Coefficients: \n",
      " [ 1.84762485e-02 -1.78181718e-02  4.06042429e-03  1.71642342e+00\n",
      "  2.29281740e+00  6.44334022e+00]\n",
      "Predicted Wins: \n",
      " [6.47039903]\n",
      "                            OLS Regression Results                            \n",
      "==============================================================================\n",
      "Dep. Variable:                   wins   R-squared:                       0.864\n",
      "Model:                            OLS   Adj. R-squared:                  0.850\n",
      "Method:                 Least Squares   F-statistic:                     60.34\n",
      "Date:                Sat, 30 May 2020   Prob (F-statistic):           6.89e-23\n",
      "Time:                        09:31:35   Log-Likelihood:                -98.578\n",
      "No. Observations:                  64   AIC:                             211.2\n",
      "Df Residuals:                      57   BIC:                             226.3\n",
      "Df Model:                           6                                         \n",
      "Covariance Type:            nonrobust                                         \n",
      "==============================================================================================\n",
      "                                 coef    std err          t      P>|t|      [0.025      0.975]\n",
      "----------------------------------------------------------------------------------------------\n",
      "const                          2.7125      4.034      0.672      0.504      -5.365      10.790\n",
      "pf                             0.0185      0.003      5.541      0.000       0.012       0.025\n",
      "pa                            -0.0178      0.004     -4.625      0.000      -0.026      -0.010\n",
      "five_year_avg_recruit_rank     0.0041      0.008      0.489      0.627      -0.013       0.021\n",
      "offensesuccessRate             1.7164      7.467      0.230      0.819     -13.237      16.670\n",
      "defensesuccessRate             2.2928      8.251      0.278      0.782     -14.230      18.816\n",
      "defensehavoctotal              6.4433      7.676      0.839      0.405      -8.927      21.814\n",
      "==============================================================================\n",
      "Omnibus:                        4.503   Durbin-Watson:                   1.890\n",
      "Prob(Omnibus):                  0.105   Jarque-Bera (JB):                2.155\n",
      "Skew:                          -0.115   Prob(JB):                        0.340\n",
      "Kurtosis:                       2.131   Cond. No.                     3.55e+04\n",
      "==============================================================================\n",
      "\n",
      "Warnings:\n",
      "[1] Standard Errors assume that the covariance matrix of the errors is correctly specified.\n",
      "[2] The condition number is large, 3.55e+04. This might indicate that there are\n",
      "strong multicollinearity or other numerical problems.\n"
     ]
    }
   ],
   "source": [
    "#All metrics\n",
    "import pandas as pd\n",
    "from sklearn import linear_model\n",
    "import statsmodels.api as sm\n",
    "\n",
    "#Get data\n",
    "df = df1\n",
    "\n",
    "  \n",
    "X = df[['pf','pa', 'five_year_avg_recruit_rank', 'offensesuccessRate', 'defensesuccessRate', 'defensehavoctotal']] # here we have 2 variables for multiple regression. \n",
    "Y = df['wins']  \n",
    " \n",
    "# with sklearn\n",
    "regr = linear_model.LinearRegression()\n",
    "regr.fit(X, Y)\n",
    "\n",
    "print('Intercept: \\n', regr.intercept_)\n",
    "print('Coefficients: \\n', regr.coef_)\n",
    "\n",
    "# prediction with sklearn\n",
    "New_PF = 336\n",
    "New_PA = 333\n",
    "New_recruit = 28.6\n",
    "New_osr = .422\n",
    "New_dsr = .415\n",
    "New_dhavoc = .2625\n",
    "print ('Predicted Wins: \\n', regr.predict([[New_PF,New_PA, New_recruit, New_osr, New_dsr, New_dhavoc]]))\n",
    "\n",
    "# with statsmodels\n",
    "X = sm.add_constant(X) # adding a constant\n",
    " \n",
    "model = sm.OLS(Y, X).fit()\n",
    "predictions = model.predict(X) \n",
    " \n",
    "print_model = model.summary()\n",
    "print(print_model)"
   ]
  },
  {
   "cell_type": "code",
   "execution_count": null,
   "metadata": {},
   "outputs": [],
   "source": []
  }
 ],
 "metadata": {
  "kernelspec": {
   "display_name": "Python 3",
   "language": "python",
   "name": "python3"
  },
  "language_info": {
   "codemirror_mode": {
    "name": "ipython",
    "version": 3
   },
   "file_extension": ".py",
   "mimetype": "text/x-python",
   "name": "python",
   "nbconvert_exporter": "python",
   "pygments_lexer": "ipython3",
   "version": "3.7.6"
  }
 },
 "nbformat": 4,
 "nbformat_minor": 4
}
